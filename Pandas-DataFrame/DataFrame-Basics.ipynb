{
 "cells": [
  {
   "cell_type": "code",
   "execution_count": 2,
   "metadata": {},
   "outputs": [
    {
     "name": "stdout",
     "output_type": "stream",
     "text": [
      "Empty DataFrame\n",
      "Columns: []\n",
      "Index: []\n"
     ]
    }
   ],
   "source": [
    "#creating empty dataframe\n",
    "import pandas as pd\n",
    "df = pd.DataFrame()\n",
    "print(df)"
   ]
  },
  {
   "cell_type": "code",
   "execution_count": 3,
   "metadata": {},
   "outputs": [
    {
     "name": "stdout",
     "output_type": "stream",
     "text": [
      "   0\n",
      "0  1\n",
      "1  2\n",
      "2  3\n",
      "3  4\n",
      "4  5\n",
      "5  6\n"
     ]
    }
   ],
   "source": [
    "#creating dataframe to list\n",
    "import numpy as np\n",
    "import pandas as pd\n",
    "data = [1,2,3,4,5,6]\n",
    "df = pd.DataFrame(data)\n",
    "print(df)\n"
   ]
  },
  {
   "cell_type": "code",
   "execution_count": 4,
   "metadata": {},
   "outputs": [
    {
     "name": "stdout",
     "output_type": "stream",
     "text": [
      "        name   mark\n",
      "0      selva  100.0\n",
      "1  ganapathi  100.0\n"
     ]
    }
   ],
   "source": [
    "#data frame with column header\n",
    "import numpy as np\n",
    "import pandas as pd\n",
    "data = [['selva',100],['ganapathi',100]]\n",
    "df = pd.DataFrame(data, columns = ['name','mark'],dtype =float)\n",
    "print(df)"
   ]
  },
  {
   "cell_type": "code",
   "execution_count": 7,
   "metadata": {},
   "outputs": [
    {
     "name": "stdout",
     "output_type": "stream",
     "text": [
      "            name  rank\n",
      "rank1      selva   100\n",
      "rank2  ganapathi   100\n"
     ]
    }
   ],
   "source": [
    "#data frame with index\n",
    "import numpy as np\n",
    "import pandas as pd\n",
    "data = {'name':['selva','ganapathi'],'rank':[100,100]}\n",
    "df = pd.DataFrame(data, index = ['rank1','rank2'])\n",
    "print(df)"
   ]
  },
  {
   "cell_type": "code",
   "execution_count": 8,
   "metadata": {},
   "outputs": [
    {
     "name": "stdout",
     "output_type": "stream",
     "text": [
      "    a   b     c\n",
      "0   1   2   NaN\n",
      "1  10  20  20.0\n"
     ]
    }
   ],
   "source": [
    "#creating dataframe list of dict\n",
    "import numpy as np\n",
    "import pandas as pd\n",
    "data = [{'a':1,'b':2},{'a':10,'b':20,'c':20}]\n",
    "df = pd.DataFrame(data)\n",
    "print(df)"
   ]
  }
 ],
 "metadata": {
  "kernelspec": {
   "display_name": "Python 3",
   "language": "python",
   "name": "python3"
  },
  "language_info": {
   "codemirror_mode": {
    "name": "ipython",
    "version": 3
   },
   "file_extension": ".py",
   "mimetype": "text/x-python",
   "name": "python",
   "nbconvert_exporter": "python",
   "pygments_lexer": "ipython3",
   "version": "3.7.3"
  }
 },
 "nbformat": 4,
 "nbformat_minor": 2
}
