{
 "cells": [
  {
   "cell_type": "code",
   "execution_count": 2,
   "metadata": {},
   "outputs": [
    {
     "name": "stdout",
     "output_type": "stream",
     "text": [
      "Series([], dtype: float64)\n"
     ]
    }
   ],
   "source": [
    "#Pandas Series\n",
    "import numpy as np\n",
    "import pandas as pd\n",
    "s=pd.Series()\n",
    "print(s)\n"
   ]
  },
  {
   "cell_type": "code",
   "execution_count": 11,
   "metadata": {},
   "outputs": [
    {
     "name": "stdout",
     "output_type": "stream",
     "text": [
      "0    a\n",
      "1    b\n",
      "2    c\n",
      "3    d\n",
      "4    e\n",
      "dtype: object\n"
     ]
    }
   ],
   "source": [
    "#creating Series from nd array\n",
    "import numpy as np\n",
    "import pandas as pd\n",
    "data = np.array(['a','b','c','d','e'])\n",
    "t = pd.Series(data)\n",
    "print(t)"
   ]
  },
  {
   "cell_type": "code",
   "execution_count": 12,
   "metadata": {},
   "outputs": [
    {
     "name": "stdout",
     "output_type": "stream",
     "text": [
      "10    a\n",
      "20    b\n",
      "30    c\n",
      "40    d\n",
      "50    e\n",
      "dtype: object\n"
     ]
    }
   ],
   "source": [
    "#creating Series from nd array with specified index\n",
    "import numpy as np\n",
    "import pandas as pd\n",
    "data = np.array(['a','b','c','d','e'])\n",
    "t = pd.Series(data,index =[10,20,30,40,50])\n",
    "print(t)"
   ]
  },
  {
   "cell_type": "code",
   "execution_count": 13,
   "metadata": {},
   "outputs": [
    {
     "name": "stdout",
     "output_type": "stream",
     "text": [
      "a    0.\n",
      "b    1.\n",
      "c    2.\n",
      "d    3.\n",
      "dtype: object\n"
     ]
    }
   ],
   "source": [
    "#creating Series from dictionary \n",
    "import numpy as np\n",
    "import pandas as pd\n",
    "data = {'a':'0.','b':'1.','c':'2.','d':'3.'}\n",
    "t = pd.Series(data)\n",
    "print(t)\n"
   ]
  },
  {
   "cell_type": "code",
   "execution_count": 15,
   "metadata": {},
   "outputs": [
    {
     "name": "stdout",
     "output_type": "stream",
     "text": [
      "a     0.\n",
      "b     1.\n",
      "e    NaN\n",
      "a     0.\n",
      "dtype: object\n"
     ]
    }
   ],
   "source": [
    "#creating Series from dictionary with manual index\n",
    "import numpy as np\n",
    "import pandas as pd\n",
    "data = {'a':'0.','b':'1.','c':'2.','d':'3.'}\n",
    "t = pd.Series(data,index = ['a','b','e','a'])\n",
    "print(t)\n"
   ]
  },
  {
   "cell_type": "code",
   "execution_count": 16,
   "metadata": {},
   "outputs": [
    {
     "name": "stdout",
     "output_type": "stream",
     "text": [
      "10    5\n",
      "20    5\n",
      "30    5\n",
      "40    5\n",
      "50    5\n",
      "dtype: int64\n"
     ]
    }
   ],
   "source": [
    "#creating Series from scalr value\n",
    "#while using scalar value manually assign tasks\n",
    "import numpy as np\n",
    "import pandas as pd\n",
    "t = pd.Series(5,index =[10,20,30,40,50])\n",
    "print(t)"
   ]
  },
  {
   "cell_type": "code",
   "execution_count": 22,
   "metadata": {},
   "outputs": [
    {
     "name": "stdout",
     "output_type": "stream",
     "text": [
      "5\n",
      "5\n",
      "5\n"
     ]
    }
   ],
   "source": [
    "#creating series and accessing value\n",
    "import numpy as np\n",
    "import pandas as pd\n",
    "t = pd.Series(5,index =[10,20,30,40,50])\n",
    "print(t[10])\n",
    "print(t[20])\n",
    "print(t[40])\n"
   ]
  }
 ],
 "metadata": {
  "kernelspec": {
   "display_name": "Python 3",
   "language": "python",
   "name": "python3"
  },
  "language_info": {
   "codemirror_mode": {
    "name": "ipython",
    "version": 3
   },
   "file_extension": ".py",
   "mimetype": "text/x-python",
   "name": "python",
   "nbconvert_exporter": "python",
   "pygments_lexer": "ipython3",
   "version": "3.7.3"
  }
 },
 "nbformat": 4,
 "nbformat_minor": 2
}
